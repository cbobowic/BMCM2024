{
 "cells": [
  {
   "cell_type": "code",
   "execution_count": 1,
   "metadata": {},
   "outputs": [],
   "source": [
    "import networkx as nx\n",
    "import matplotlib.pyplot as plt\n",
    "import pandas as pd"
   ]
  },
  {
   "cell_type": "code",
   "execution_count": null,
   "metadata": {},
   "outputs": [
    {
     "name": "stdout",
     "output_type": "stream",
     "text": [
      "           Date    Type Opponent    Tm    Opp                       Team  diff\n",
      "0    2023-11-06     REG    UConn  52.0   95.0           Northern Arizona -43.0\n",
      "1    2023-11-11     REG    UConn  67.0  107.0                  Stonehill -40.0\n",
      "2    2023-11-14     REG    UConn  53.0   87.0   Mississippi Valley State -34.0\n",
      "3    2023-11-19     REG    UConn  57.0   77.0                    Indiana -20.0\n",
      "4    2023-11-20     REG    UConn  71.0   81.0                      Texas -10.0\n",
      "...         ...     ...      ...   ...    ...                        ...   ...\n",
      "2372 2024-03-06  CTOURN   Wagner  57.0   60.0               Sacred Heart  -3.0\n",
      "2373 2024-03-09  CTOURN   Wagner  56.0   66.0  Central Connecticut State -10.0\n",
      "2374 2024-03-12  CTOURN   Wagner  47.0   54.0                  Merrimack  -7.0\n",
      "2375 2024-03-19    NCAA   Wagner  68.0   71.0                     Howard  -3.0\n",
      "2376 2024-03-21    NCAA   Wagner  90.0   62.0             North Carolina  28.0\n",
      "\n",
      "[1157 rows x 7 columns]\n"
     ]
    }
   ],
   "source": [
    "all_data = pd.read_pickle('./data/all_data.pkl')\n",
    "all_data['diff'] = all_data['Tm'] - all_data[\"Opp\"]\n",
    "\n",
    "print(all_data)"
   ]
  }
 ],
 "metadata": {
  "kernelspec": {
   "display_name": "venv",
   "language": "python",
   "name": "python3"
  },
  "language_info": {
   "codemirror_mode": {
    "name": "ipython",
    "version": 3
   },
   "file_extension": ".py",
   "mimetype": "text/x-python",
   "name": "python",
   "nbconvert_exporter": "python",
   "pygments_lexer": "ipython3",
   "version": "3.11.5"
  }
 },
 "nbformat": 4,
 "nbformat_minor": 2
}
